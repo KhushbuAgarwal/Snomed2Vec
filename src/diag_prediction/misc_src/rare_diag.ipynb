{
 "cells": [
  {
   "cell_type": "code",
   "execution_count": 1,
   "metadata": {},
   "outputs": [],
   "source": [
    "import pandas as pd\n",
    "import numpy as np\n",
    "import pickle as pkl"
   ]
  },
  {
   "cell_type": "code",
   "execution_count": 2,
   "metadata": {},
   "outputs": [],
   "source": [
    "df = pd.read_csv('data/mimic3/DIAGNOSES_ICD.csv')\n"
   ]
  },
  {
   "cell_type": "code",
   "execution_count": 6,
   "metadata": {},
   "outputs": [],
   "source": [
    "codes = list(df['ICD9_CODE'].values)\n"
   ]
  },
  {
   "cell_type": "code",
   "execution_count": 8,
   "metadata": {},
   "outputs": [],
   "source": [
    "with open('inv_idx','rb') as f:\n",
    "    inv_idx = pkl.load(f)\n",
    "\n",
    "inv_idx['nan'] = 283\n",
    "codes = [inv_idx[str(code)] for code in codes]"
   ]
  },
  {
   "cell_type": "code",
   "execution_count": 18,
   "metadata": {},
   "outputs": [],
   "source": [
    "codes.sort()\n",
    "count = [0 for i in range(0,284)]\n",
    "\n",
    "for code in codes:\n",
    "    count[int(code)] += 1"
   ]
  },
  {
   "cell_type": "code",
   "execution_count": 46,
   "metadata": {},
   "outputs": [],
   "source": [
    "rare = np.array(count).argsort()\n",
    "lb = int(0.20*int(len(rare)))\n",
    "ub = int(0.40*len(rare))\n",
    "rare_20 = rare[lb:ub]\n"
   ]
  },
  {
   "cell_type": "code",
   "execution_count": 47,
   "metadata": {},
   "outputs": [
    {
     "data": {
      "text/plain": [
       "array([152, 262,  45, 195,  25, 219, 280,  56,  65, 155, 113, 247, 111,\n",
       "         0, 210, 255, 271, 100,  36, 239,  40,  26, 203,  81, 162,  42,\n",
       "        24, 141, 249, 120,  39,  74, 182, 201,  35, 234, 125, 276, 275,\n",
       "        12, 168,  14, 212, 135,  78,  64,  16, 153,  17, 261,  68,  66,\n",
       "        11, 196,  10,  34, 238])"
      ]
     },
     "execution_count": 47,
     "metadata": {},
     "output_type": "execute_result"
    }
   ],
   "source": [
    "rare_20"
   ]
  }
 ],
 "metadata": {
  "kernelspec": {
   "display_name": "Python 3",
   "language": "python",
   "name": "python3"
  },
  "language_info": {
   "codemirror_mode": {
    "name": "ipython",
    "version": 3
   },
   "file_extension": ".py",
   "mimetype": "text/x-python",
   "name": "python",
   "nbconvert_exporter": "python",
   "pygments_lexer": "ipython3",
   "version": "3.6.5"
  }
 },
 "nbformat": 4,
 "nbformat_minor": 2
}
