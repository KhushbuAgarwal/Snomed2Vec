{
 "cells": [
  {
   "cell_type": "code",
   "execution_count": 1,
   "metadata": {},
   "outputs": [],
   "source": [
    "import pickle as pkl\n",
    "import numpy as np\n",
    "\n",
    "path_to_file = 'data/mimic3/singleDX.txt'\n",
    "\n",
    "inv_idx = {}\n",
    "# inv_map = {}\n",
    "\n",
    "with open(path_to_file,'r') as f:\n",
    "\tdata = f.read()\n",
    "\n",
    "data = data.split('\\n')\n",
    "\n",
    "# inv_name = {}\n",
    "var_idx_1 = 0\n",
    "var_idx_2 = 0\n",
    "# li = []\n",
    "iidx = -1\n",
    "\n",
    "for idx in range(0,len(data)):\n",
    "\tvar_idx_2 = idx\n",
    "\tvalue = []\n",
    "\tkey = \"\"\n",
    "\tif data[var_idx_2] == \"\":\n",
    "\n",
    "\t\tiidx = iidx + 1\n",
    "\t\tkey = data[var_idx_1].split(\" \")[0]\n",
    "# \t\tinv_name[iidx] = ' '.join(data[var_idx_1].split(\" \")[1:])\n",
    "\n",
    "# \t\tinv_map[iidx] = key\n",
    "\n",
    "\t\t#extract the data between var_idx 1 and 2\n",
    "\t\tfor i in range(var_idx_1+1, var_idx_2):\n",
    "\t\t\tl = [x for x in data[i].split(\" \") if not x == '']\n",
    "\t\t\t\n",
    "\t\t\t# adding inverse lookup between the icd-code and collapsed heirarchy\n",
    "\t\t\tfor x in l : \n",
    "\t\t\t\tinv_idx[x] = iidx\n",
    "\n",
    "# \t\t\tvalue = value + l\n",
    "\t\t\n",
    "\t\t#hierarchy[key] = value\n",
    "\n",
    "\t\t#set the new var_idx\n",
    "\t\tvar_idx_1 = var_idx_2 + 1\n",
    "\n",
    "# now pickle the hierarchy\n",
    "# fpkl = open('inv_idx','wb')\n",
    "# pkl.dump(inv_idx, fpkl)\n",
    "# fpkl.close()\n"
   ]
  },
  {
   "cell_type": "code",
   "execution_count": 2,
   "metadata": {},
   "outputs": [],
   "source": [
    "import pandas as pd\n",
    "df = pd.read_csv('data/mimic3/ccs_multi_dx_tool_2015.csv')\n",
    "td = df[['CODE','LVL','\\'LVL2\\'','\\'LVL3\\'','\\'LVL4\\'']]\n",
    "\n",
    "td = td.values\n",
    "for i in range(0,len(td)):\n",
    "    for j in range(0, len(td[i])):\n",
    "        td[i][j] = td[i][j].replace('\\'','')\n",
    "        td[i][j] = td[i][j].replace(' ','')\n",
    "        \n"
   ]
  },
  {
   "cell_type": "code",
   "execution_count": 3,
   "metadata": {},
   "outputs": [],
   "source": [
    "#Creating the hierarchy.\n",
    "vmap = {}\n",
    "for i in range(0, len(td)):\n",
    "    ccs = inv_idx[td[i][0]]\n",
    "    if ccs in vmap:\n",
    "        continue\n",
    "    else:\n",
    "        vmap[ccs] = td[i][1:]\n",
    "\n"
   ]
  },
  {
   "cell_type": "code",
   "execution_count": 4,
   "metadata": {},
   "outputs": [],
   "source": [
    "def common_anc(li,lj):\n",
    "    ans_idx = 3\n",
    "    for idx in range(0,4):\n",
    "        if li[idx] != lj[idx]:\n",
    "            ans_idx = idx - 1\n",
    "            break\n",
    "    return ans_idx\n",
    "\n",
    "def hierarchical_distance(i,j):\n",
    "    li = vmap[i]\n",
    "    lj = vmap[j] \n",
    "    \n",
    "\n",
    "    \n",
    "    # idx : {-1, 0, 1, }\n",
    "    anc = common_anc(li, lj)\n",
    "    dist = 0\n",
    "    \n",
    "    if anc == -1 :\n",
    "        dist = 2\n",
    "        anc = 0\n",
    "    else:\n",
    "        dist = 0\n",
    "    \n",
    "#     for idx in range(anc, 4):\n",
    "        \n",
    "#         if li[idx] != '':\n",
    "#             dist += 1\n",
    "#         elif lj[idx] != '':\n",
    "#             dist += 1\n",
    "    dist += 2*(4-anc-1)\n",
    "    \n",
    "    return dist"
   ]
  },
  {
   "cell_type": "code",
   "execution_count": 5,
   "metadata": {},
   "outputs": [],
   "source": [
    "# x,y=0,280\n",
    "# print(common_anc(vmap[x],vmap[y]))\n",
    "# hierarchical_distance(x,y)"
   ]
  },
  {
   "cell_type": "code",
   "execution_count": 6,
   "metadata": {},
   "outputs": [],
   "source": [
    "vmap[283] = np.array(['19','','',''])"
   ]
  },
  {
   "cell_type": "code",
   "execution_count": 12,
   "metadata": {},
   "outputs": [],
   "source": [
    "dist = [[0]*284]*284\n",
    "for i in range(0,284):\n",
    "    for j in range(i+1, 284):\n",
    "        dist[i][j] = hierarchical_distance(i, j)\n",
    "        \n",
    "dist = np.array(dist)"
   ]
  },
  {
   "cell_type": "code",
   "execution_count": 15,
   "metadata": {},
   "outputs": [],
   "source": [
    "#now pickle the hierarchy\n",
    "hd = open('hier_dist','wb')\n",
    "pkl.dump(dist, hd)\n",
    "hd.close()"
   ]
  }
 ],
 "metadata": {
  "kernelspec": {
   "display_name": "Python 3",
   "language": "python",
   "name": "python3"
  },
  "language_info": {
   "codemirror_mode": {
    "name": "ipython",
    "version": 3
   },
   "file_extension": ".py",
   "mimetype": "text/x-python",
   "name": "python",
   "nbconvert_exporter": "python",
   "pygments_lexer": "ipython3",
   "version": "3.6.5"
  }
 },
 "nbformat": 4,
 "nbformat_minor": 2
}
