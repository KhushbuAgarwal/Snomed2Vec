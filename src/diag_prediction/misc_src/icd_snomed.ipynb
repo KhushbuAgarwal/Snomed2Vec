{
 "cells": [
  {
   "cell_type": "code",
   "execution_count": 1,
   "metadata": {},
   "outputs": [],
   "source": [
    "import pandas as pd\n",
    "import numpy as np\n",
    "import pickle as pkl"
   ]
  },
  {
   "cell_type": "code",
   "execution_count": 2,
   "metadata": {},
   "outputs": [],
   "source": [
    "desc = pd.read_csv('data/snomed/sct2_Description_Full-en_US1000124_20180301.txt',sep='\\t')\n",
    "rel = pd.read_csv('data/snomed/sct2_Relationship_Full_US1000124_20180301.txt',sep='\\t')"
   ]
  },
  {
   "cell_type": "code",
   "execution_count": 3,
   "metadata": {},
   "outputs": [],
   "source": [
    "fi = open('inv_idx','rb')\n",
    "inv_idx = pkl.load(fi)\n",
    "keys = list(inv_idx.keys())"
   ]
  },
  {
   "cell_type": "code",
   "execution_count": 4,
   "metadata": {},
   "outputs": [],
   "source": [
    "hkeys = []\n",
    "hkey_map = {}\n",
    "#There is a point implied between the third and fourth digit for all diagnosis codes other than the V codes.\n",
    "#The decimal is implied for V codes between the second and third digit\n",
    "for k in keys:\n",
    "    if len(k) <= 3:\n",
    "        continue\n",
    "    if k[0] =='V':\n",
    "        hkeys.append(k[0:3]+'.'+k[3:])\n",
    "        hkey_map[k[0:3]+'.'+k[3:]] = k\n",
    "    elif k[0] =='E':\n",
    "        hkeys.append(k[0:4]+'.'+k[4:])\n",
    "        hkey_map[k[0:4]+'.'+k[4:]] = k\n",
    "    else:\n",
    "        hkeys.append(k[0:3]+'.'+k[3:])\n",
    "        hkey_map[k[0:3]+'.'+k[3:]] = k\n",
    "        "
   ]
  },
  {
   "cell_type": "code",
   "execution_count": 5,
   "metadata": {},
   "outputs": [],
   "source": [
    "map_icd_snomed = pd.read_csv('data/snomed/ICD9CM_SNOMED_MAP_1TO1_201712.txt',sep='\\t')\n",
    "map_icd_snomed = map_icd_snomed[['ICD_CODE','SNOMED_CID']]\n",
    "\n",
    "multi_map_icd_snomed = pd.read_csv('data/snomed/ICD9CM_SNOMED_MAP_1TOM_201712.txt',sep='\\t')\n",
    "multi_map_icd_snomed = multi_map_icd_snomed[['ICD_CODE','SNOMED_CID']]\n"
   ]
  },
  {
   "cell_type": "code",
   "execution_count": 65,
   "metadata": {},
   "outputs": [],
   "source": [
    "arr = map_icd_snomed.values\n",
    "arr = dict([(str(key), str(value)) for value, key in arr])"
   ]
  },
  {
   "cell_type": "code",
   "execution_count": 66,
   "metadata": {},
   "outputs": [],
   "source": [
    "snomed_v = {}\n",
    "with open('data/snomed/vertexDictionary.out') as fv:\n",
    "    for line in fv:\n",
    "        line.replace('\\n','')\n",
    "        snomed, vertex = line.split('\\t')\n",
    "        snomed_v[int(vertex.replace('\\n',''))] = str(snomed.replace('\\n',''))"
   ]
  },
  {
   "cell_type": "code",
   "execution_count": 67,
   "metadata": {},
   "outputs": [],
   "source": [
    "set_snomed_icd_keys = set(list(arr.keys()))\n"
   ]
  },
  {
   "cell_type": "code",
   "execution_count": 68,
   "metadata": {},
   "outputs": [],
   "source": [
    "x = list(set_snomed_icd_keys)"
   ]
  },
  {
   "cell_type": "code",
   "execution_count": 69,
   "metadata": {},
   "outputs": [],
   "source": [
    "#extracting only useful embeddings\n",
    "def getEmbeddings():\n",
    "\n",
    "    embeddings = {}\n",
    "    with open('data/snomed/emb.out') as femb:\n",
    "        meta = femb.readline()\n",
    "        meta.replace('\\n','')\n",
    "        x, dim = meta.split(' ')\n",
    "\n",
    "        for line in femb:\n",
    "            line.replace('\\n','')\n",
    "            node_emb = line.split(' ')\n",
    "\n",
    "            node = int(node_emb[0])\n",
    "            node_emb = np.array(node_emb[1:], dtype=float)\n",
    "            \n",
    "            snomed = snomed_v[node]\n",
    "            if snomed in set_snomed_icd_keys: \n",
    "                key = arr[snomed]\n",
    "                embeddings[key] = node_emb\n",
    "\n",
    "            # these embeddings were not given. so, we initialize them with 0\n",
    "#     for vertex in range(0,284):\n",
    "#         if vertex not in set(list(embeddings.keys())):\n",
    "#             embeddings[vertex] = [0]*int(dimension)\n",
    "\n",
    "    return embeddings\n",
    "\n"
   ]
  },
  {
   "cell_type": "code",
   "execution_count": 70,
   "metadata": {},
   "outputs": [],
   "source": [
    "embeddings = getEmbeddings()"
   ]
  },
  {
   "cell_type": "code",
   "execution_count": null,
   "metadata": {},
   "outputs": [],
   "source": [
    "\n"
   ]
  },
  {
   "cell_type": "code",
   "execution_count": 6,
   "metadata": {},
   "outputs": [],
   "source": [
    "#use the icd9 codes to obtain the mapping from icd to snomed\n",
    "icd_snomed = {}\n",
    "snomed_icd = {}\n",
    "\n",
    "# for icd, snomed in map_icd_snomed.values:\n",
    "#     if icd in hkeys:\n",
    "#         icd_snomed[icd] = snomed\n",
    "#         snomed_icd[snomed] = icd\n",
    "\n",
    "for icd, snomed in multi_map_icd_snomed.values:\n",
    "    if icd in hkeys:\n",
    "#         icd_snomed[icd] = snomed\n",
    "        snomed_icd[snomed] = icd\n",
    "        "
   ]
  },
  {
   "cell_type": "code",
   "execution_count": 7,
   "metadata": {},
   "outputs": [
    {
     "data": {
      "text/plain": [
       "40510"
      ]
     },
     "execution_count": 7,
     "metadata": {},
     "output_type": "execute_result"
    }
   ],
   "source": [
    "skeys = list(snomed_icd.keys())\n",
    "len(skeys)"
   ]
  },
  {
   "cell_type": "code",
   "execution_count": 8,
   "metadata": {},
   "outputs": [],
   "source": [
    "#extract all relations between any two icd codes available in MIMIC III\n",
    "skeys = set(snomed_icd.keys())\n",
    "mrel = []\n",
    "for s, d, t in rel[['sourceId','destinationId','typeId']].values:\n",
    "    if s in skeys and d in skeys:\n",
    "        mrel.append([s,d,t])"
   ]
  },
  {
   "cell_type": "code",
   "execution_count": 98,
   "metadata": {},
   "outputs": [],
   "source": [
    "# for k in icd_snomed.keys():\n",
    "#     if k.startswith('E'):\n",
    "#         print(k)"
   ]
  },
  {
   "cell_type": "code",
   "execution_count": 9,
   "metadata": {},
   "outputs": [],
   "source": [
    "relset = set(np.array(mrel)[:,2])"
   ]
  },
  {
   "cell_type": "code",
   "execution_count": 10,
   "metadata": {},
   "outputs": [
    {
     "name": "stdout",
     "output_type": "stream",
     "text": [
      "[42752001 'Due to']\n",
      "[260908002 'Course']\n",
      "[116680003 'Is a']\n",
      "[363708005 'Temporally follows']\n",
      "[116676008 'Associated morphology']\n",
      "[308489006 'Pathological process']\n",
      "[47429007 'Associated with']\n",
      "[363705008 'Has definitional manifestation']\n",
      "[255234002 'After']\n",
      "[363714003 'Interprets']\n",
      "[246090004 'Associated finding']\n",
      "[363715002 'Associated etiologic finding']\n",
      "[246075003 'Causative agent']\n"
     ]
    }
   ],
   "source": [
    "for rs in relset:\n",
    "    print(desc.loc[desc['conceptId']==rs][['conceptId','term']].values[0])"
   ]
  },
  {
   "cell_type": "code",
   "execution_count": 157,
   "metadata": {},
   "outputs": [
    {
     "name": "stdout",
     "output_type": "stream",
     "text": [
      "32\n"
     ]
    }
   ],
   "source": [
    "Assoc = rel.loc[rel['typeId']==47429007][['sourceId','destinationId']].values\n",
    "adj =  [[0 for i in range(284)] for j in range(284)]\n",
    "count = 15\n",
    "for s,d in Assoc:\n",
    "    if s in skeys and d in skeys:\n",
    "#         print('SOURCE '+snomed_icd[s]+ ' group : ' +str(inv_idx[(hkey_map[snomed_icd[s]])])+ ' ASSOCIATED WITH  '+snomed_icd[d] + ' group : ' +str(inv_idx[(hkey_map[snomed_icd[d]])]))\n",
    "#         print('SOURCE '+desc.loc[desc['conceptId']==s]['term'].values[0]+' ASSOCIATED WITH  '+desc.loc[desc['conceptId']==d]['term'].values[0])\n",
    "#         print('\\n')\n",
    "#         count -= 1\n",
    "        \n",
    "#         if count == 0:\n",
    "#             break\n",
    "\n",
    "        adj[inv_idx[(hkey_map[snomed_icd[s]])]][inv_idx[(hkey_map[snomed_icd[d]])]] = 1\n",
    "\n",
    "    \n",
    "ed = 0\n",
    "for i in range(0,284):\n",
    "    for j in range(0,284):\n",
    "        if adj[i][j] == 1:\n",
    "            ed += 1\n",
    "\n",
    "print(ed)\n"
   ]
  },
  {
   "cell_type": "code",
   "execution_count": 159,
   "metadata": {},
   "outputs": [
    {
     "name": "stdout",
     "output_type": "stream",
     "text": [
      "52\n"
     ]
    }
   ],
   "source": [
    "AssocE = rel.loc[rel['typeId']==246090004][['sourceId','destinationId']].values\n",
    "adj =  [[0 for i in range(284)] for j in range(284)]\n",
    "count = 15\n",
    "for s,d in AssocE:\n",
    "    if s in skeys and d in skeys:\n",
    "#         print('SOURCE '+snomed_icd[s]+ ' group : ' +str(inv_idx[(hkey_map[snomed_icd[s]])])+ ' ASSOCIATED WITH  '+snomed_icd[d] + ' group : ' +str(inv_idx[(hkey_map[snomed_icd[d]])]))\n",
    "#         print('SOURCE '+desc.loc[desc['conceptId']==s]['term'].values[0]+' ASSOCIATED WITH  '+desc.loc[desc['conceptId']==d]['term'].values[0])\n",
    "#         print('\\n')\n",
    "#         count -= 1\n",
    "        \n",
    "#         if count == 0:\n",
    "#             break\n",
    "\n",
    "        adj[inv_idx[(hkey_map[snomed_icd[s]])]][inv_idx[(hkey_map[snomed_icd[d]])]] = 1\n",
    "\n",
    "    \n",
    "ed = 0\n",
    "for i in range(0,284):\n",
    "    for j in range(0,284):\n",
    "        if adj[i][j] == 1:\n",
    "            ed += 1\n",
    "\n",
    "print(ed)\n"
   ]
  },
  {
   "cell_type": "code",
   "execution_count": 152,
   "metadata": {},
   "outputs": [
    {
     "name": "stdout",
     "output_type": "stream",
     "text": [
      "16\n"
     ]
    }
   ],
   "source": [
    "Manif = rel.loc[rel['typeId']==363705008][['sourceId','destinationId']].values\n",
    "count = 15\n",
    "adj =  [[0 for i in range(284)] for j in range(284)]\n",
    "\n",
    "for s,d in Manif:\n",
    "    if s in skeys and d in skeys:\n",
    "#         print('SOURCE '+snomed_icd[s]+ 'group : ' +str(inv_idx[(hkey_map[snomed_icd[s]])])+ ' has definitional Manifestation  '.upper() +snomed_icd[d]+ ' group : ' +str(inv_idx[(hkey_map[snomed_icd[d]])]) )\n",
    "#         print('SOURCE '+desc.loc[desc['conceptId']==s]['term'].values[0]+' has definitional Manifestation  '.upper()+desc.loc[desc['conceptId']==d]['term'].values[0])\n",
    "#         print('\\n')\n",
    "#         count -= 1\n",
    "        \n",
    "#         if count == 0:\n",
    "#             break\n",
    "        adj[inv_idx[(hkey_map[snomed_icd[s]])]][inv_idx[(hkey_map[snomed_icd[d]])]] = 1\n",
    "\n",
    "    \n",
    "ed = 0\n",
    "for i in range(0,284):\n",
    "    for j in range(0,284):\n",
    "        if adj[i][j] == 1:\n",
    "            ed += 1\n",
    "\n",
    "print(ed)"
   ]
  },
  {
   "cell_type": "code",
   "execution_count": 153,
   "metadata": {},
   "outputs": [
    {
     "name": "stdout",
     "output_type": "stream",
     "text": [
      "32\n"
     ]
    }
   ],
   "source": [
    "After = rel.loc[rel['typeId']==255234002][['sourceId','destinationId']].values\n",
    "count = 15\n",
    "adj =  [[0 for i in range(284)] for j in range(284)]\n",
    "for s,d in After:\n",
    "    if s in skeys and d in skeys:\n",
    "#         print('SOURCE '+snomed_icd[s]+ 'group : ' +str(inv_idx[(hkey_map[snomed_icd[s]])])+ ' after  '.upper() +snomed_icd[d]+ ' group : ' +str(inv_idx[(hkey_map[snomed_icd[d]])]) )\n",
    "#         print('SOURCE '+desc.loc[desc['conceptId']==s]['term'].values[0]+' after  '.upper()+desc.loc[desc['conceptId']==d]['term'].values[0])\n",
    "#         print('\\n')\n",
    "#         count -= 1\n",
    "        \n",
    "#         if count == 0:\n",
    "#             break\n",
    "        adj[inv_idx[(hkey_map[snomed_icd[s]])]][inv_idx[(hkey_map[snomed_icd[d]])]] = 1\n",
    "\n",
    "    \n",
    "ed = 0\n",
    "for i in range(0,284):\n",
    "    for j in range(0,284):\n",
    "        if adj[i][j] == 1:\n",
    "            ed += 1\n",
    "\n",
    "print(ed)"
   ]
  },
  {
   "cell_type": "code",
   "execution_count": 12,
   "metadata": {},
   "outputs": [
    {
     "name": "stdout",
     "output_type": "stream",
     "text": [
      "206\n"
     ]
    }
   ],
   "source": [
    "DueTo = rel.loc[rel['typeId']==42752001][['sourceId','destinationId']].values\n",
    "count = 20\n",
    "adj =  [[0 for i in range(284)] for j in range(284)]\n",
    "edgset = set([])\n",
    "\n",
    "for s,d in DueTo:\n",
    "    if s in skeys and d in skeys:\n",
    "#         print('SOURCE '+snomed_icd[s]+ 'group : ' +str(inv_idx[(hkey_map[snomed_icd[s]])])+ ' Due To  '.upper() +snomed_icd[d]+ ' group : ' +str(inv_idx[(hkey_map[snomed_icd[d]])]) )\n",
    "#         print('SOURCE '+desc.loc[desc['conceptId']==s]['term'].values[0]+' Due To  '.upper()+desc.loc[desc['conceptId']==d]['term'].values[0])\n",
    "#         print('\\n')\n",
    "#         count -= 1\n",
    "        \n",
    "#         if count == 0:\n",
    "#             break\n",
    "#         x, y = snomed_icd[s].split('.')[0],snomed_icd[d].split('.')[0]\n",
    "#         edgset = edgset | set([(x,y)])\n",
    "        adj[inv_idx[(hkey_map[snomed_icd[s]])]][inv_idx[(hkey_map[snomed_icd[d]])]] = 1\n",
    "\n",
    "\n",
    "# print((edgset))\n",
    "ed = 0\n",
    "adjlist = {}\n",
    "for i in range(0,284):\n",
    "    adjlist[i]= []\n",
    "    for j in range(0,284):\n",
    "        if adj[i][j] == 1 and not i == j:\n",
    "            ed += 1\n",
    "            adjlist[i].append(j)\n",
    "\n",
    "print(ed)\n",
    "relf = open('dueTo.rel','wb')\n",
    "pkl.dump(adjlist, relf)\n",
    "relf.close()"
   ]
  },
  {
   "cell_type": "code",
   "execution_count": 13,
   "metadata": {},
   "outputs": [
    {
     "name": "stdout",
     "output_type": "stream",
     "text": [
      "1\n"
     ]
    }
   ],
   "source": [
    "print(adj[69][57])"
   ]
  },
  {
   "cell_type": "code",
   "execution_count": 14,
   "metadata": {},
   "outputs": [
    {
     "name": "stdout",
     "output_type": "stream",
     "text": [
      "3135\n"
     ]
    }
   ],
   "source": [
    "IsA = rel.loc[rel['typeId']==116680003][['sourceId','destinationId']].values\n",
    "count = 20\n",
    "adj =  [[0 for i in range(284)] for j in range(284)]\n",
    "for s,d in IsA:\n",
    "    if s in skeys and d in skeys:\n",
    "#         print('SOURCE '+snomed_icd[s]+ 'group : ' +str(inv_idx[(hkey_map[snomed_icd[s]])])+ ' Is A  '.upper() +snomed_icd[d]+ ' group : ' +str(inv_idx[(hkey_map[snomed_icd[d]])]) )\n",
    "#         print('SOURCE '+desc.loc[desc['conceptId']==s]['term'].values[0]+' Is A'.upper()+desc.loc[desc['conceptId']==d]['term'].values[0])\n",
    "#         print('\\n')\n",
    "#         count -= 1\n",
    "        \n",
    "#         if count == 0:\n",
    "#             break\n",
    "        adj[inv_idx[(hkey_map[snomed_icd[s]])]][inv_idx[(hkey_map[snomed_icd[d]])]] = 1\n",
    "\n",
    "    \n",
    "ed = 0\n",
    "adjlist = {}\n",
    "for i in range(0,284):\n",
    "    adjlist[i]= []\n",
    "    for j in range(0,284):\n",
    "        if adj[i][j] == 1 and not i == j:\n",
    "            ed += 1\n",
    "            adjlist[i].append(j)\n",
    "print(ed)\n",
    "relf = open('isA.rel','wb')\n",
    "pkl.dump(adjlist, relf)\n",
    "relf.close()\n"
   ]
  },
  {
   "cell_type": "code",
   "execution_count": 145,
   "metadata": {},
   "outputs": [
    {
     "name": "stdout",
     "output_type": "stream",
     "text": [
      "13\n"
     ]
    }
   ],
   "source": [
    "Follows = rel.loc[rel['typeId']==363708005][['sourceId','destinationId']].values\n",
    "count = 20\n",
    "adj =  [[0 for i in range(284)] for j in range(284)]\n",
    "for s,d in Follows:\n",
    "    if s in skeys and d in skeys:\n",
    "#         print('SOURCE '+snomed_icd[s]+ 'group : ' +str(inv_idx[(hkey_map[snomed_icd[s]])])+ ' temporally follows  '.upper() +snomed_icd[d]+ ' group : ' +str(inv_idx[(hkey_map[snomed_icd[d]])]) )\n",
    "#         print('SOURCE '+desc.loc[desc['conceptId']==s]['term'].values[0]+' temporally follows '.upper()+desc.loc[desc['conceptId']==d]['term'].values[0])\n",
    "#         print('\\n')\n",
    "#         count -= 1\n",
    "        \n",
    "#         if count == 0:\n",
    "#             break\n",
    "        adj[inv_idx[(hkey_map[snomed_icd[s]])]][inv_idx[(hkey_map[snomed_icd[d]])]] = 1\n",
    "\n",
    "    \n",
    "ed = 0\n",
    "for i in range(0,284):\n",
    "    for j in range(0,284):\n",
    "        if adj[i][j] == 1:\n",
    "            ed += 1\n",
    "print(ed)"
   ]
  },
  {
   "cell_type": "code",
   "execution_count": 139,
   "metadata": {},
   "outputs": [
    {
     "name": "stdout",
     "output_type": "stream",
     "text": [
      "SOURCE Bacterial septicemia CAUSATIVE AGENT Bacterium\n",
      "\n",
      "\n",
      "SOURCE Bacterial septicemia CAUSATIVE AGENT Bacterium\n",
      "\n",
      "\n",
      "SOURCE Uncomplicated sedative, hypnotic AND/OR anxiolytic withdrawal CAUSATIVE AGENT Drug\n",
      "\n",
      "\n",
      "SOURCE Uncomplicated sedative, hypnotic AND/OR anxiolytic withdrawal CAUSATIVE AGENT Drug\n",
      "\n",
      "\n",
      "SOURCE Uncomplicated sedative, hypnotic AND/OR anxiolytic withdrawal CAUSATIVE AGENT Psychoactive substance of abuse - non-pharmaceutical\n",
      "\n",
      "\n",
      "SOURCE Uncomplicated sedative, hypnotic AND/OR anxiolytic withdrawal CAUSATIVE AGENT Psychoactive substance of abuse - non-pharmaceutical\n",
      "\n",
      "\n",
      "SOURCE Spontaneous abortion with amniotic fluid embolism CAUSATIVE AGENT Amniotic fluid\n",
      "\n",
      "\n",
      "SOURCE Poisoning by quinoline AND/OR hydroxyquinoline derivative CAUSATIVE AGENT Antimalarial agent\n",
      "\n",
      "\n",
      "SOURCE Poisoning by quinoline AND/OR hydroxyquinoline derivative CAUSATIVE AGENT Antimalarial agent\n",
      "\n",
      "\n",
      "SOURCE Poisoning by quinoline AND/OR hydroxyquinoline derivative CAUSATIVE AGENT Narcotic drug\n",
      "\n",
      "\n",
      "SOURCE Poisoning by quinoline AND/OR hydroxyquinoline derivative CAUSATIVE AGENT Narcotic drug\n",
      "\n",
      "\n",
      "SOURCE Poisoning by quinoline AND/OR hydroxyquinoline derivative CAUSATIVE AGENT Quinoline and hydroxyquinoline - chemical\n",
      "\n",
      "\n",
      "SOURCE Poisoning by quinoline AND/OR hydroxyquinoline derivative CAUSATIVE AGENT Quinoline and hydroxyquinoline - chemical\n",
      "\n",
      "\n",
      "SOURCE Infection by Cysticercus cellulosae CAUSATIVE AGENT Cysticercus cellulosae\n",
      "\n",
      "\n",
      "SOURCE Infection by Cysticercus cellulosae CAUSATIVE AGENT Cysticercus cellulosae\n",
      "\n",
      "\n",
      "SOURCE Infection by Cysticercus cellulosae CAUSATIVE AGENT Order caryophyllidea\n",
      "\n",
      "\n",
      "SOURCE Infection by Cysticercus cellulosae CAUSATIVE AGENT Order caryophyllidea\n",
      "\n",
      "\n",
      "SOURCE Progressive rubella panencephalitis CAUSATIVE AGENT Rubella virus\n",
      "\n",
      "\n",
      "SOURCE Progressive rubella panencephalitis CAUSATIVE AGENT Rubella virus\n",
      "\n",
      "\n",
      "SOURCE Infection by Schistosoma CAUSATIVE AGENT Schistosoma\n",
      "\n",
      "\n"
     ]
    }
   ],
   "source": [
    "CA = rel.loc[rel['typeId']==246075003][['sourceId','destinationId']].values\n",
    "count = 20\n",
    "for s,d in CA:\n",
    "    if not( s in skeys and d in skeys):\n",
    "        #print('SOURCE '+snomed_icd[s]+ 'group : ' +str(inv_idx[(hkey_map[snomed_icd[s]])])+ ' temporally follows  '.upper() +snomed_icd[d]+ ' group : ' +str(inv_idx[(hkey_map[snomed_icd[d]])]) )\n",
    "        print('SOURCE '+desc.loc[desc['conceptId']==s]['term'].values[0]+' causative agent '.upper()+desc.loc[desc['conceptId']==d]['term'].values[0])\n",
    "        print('\\n')\n",
    "        count -= 1\n",
    "        \n",
    "        if count == 0:\n",
    "            break"
   ]
  }
 ],
 "metadata": {
  "kernelspec": {
   "display_name": "Python 3",
   "language": "python",
   "name": "python3"
  },
  "language_info": {
   "codemirror_mode": {
    "name": "ipython",
    "version": 3
   },
   "file_extension": ".py",
   "mimetype": "text/x-python",
   "name": "python",
   "nbconvert_exporter": "python",
   "pygments_lexer": "ipython3",
   "version": "3.6.5"
  }
 },
 "nbformat": 4,
 "nbformat_minor": 2
}
